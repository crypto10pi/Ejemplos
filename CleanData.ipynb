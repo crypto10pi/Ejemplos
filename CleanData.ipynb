{
  "nbformat": 4,
  "nbformat_minor": 0,
  "metadata": {
    "colab": {
      "provenance": [],
      "authorship_tag": "ABX9TyO6PBulWz8SmE5Sfld1nODK",
      "include_colab_link": true
    },
    "kernelspec": {
      "name": "python3",
      "display_name": "Python 3"
    },
    "language_info": {
      "name": "python"
    }
  },
  "cells": [
    {
      "cell_type": "markdown",
      "metadata": {
        "id": "view-in-github",
        "colab_type": "text"
      },
      "source": [
        "<a href=\"https://colab.research.google.com/github/crypto10pi/Ejemplos/blob/main/CleanData.ipynb\" target=\"_parent\"><img src=\"https://colab.research.google.com/assets/colab-badge.svg\" alt=\"Open In Colab\"/></a>"
      ]
    },
    {
      "cell_type": "code",
      "execution_count": 24,
      "metadata": {
        "colab": {
          "base_uri": "https://localhost:8080/",
          "height": 282
        },
        "id": "puhJ4PnoF_fJ",
        "outputId": "eaaa9287-e553-4279-fcd4-b654286460b0"
      },
      "outputs": [
        {
          "output_type": "execute_result",
          "data": {
            "text/plain": [
              "<matplotlib.axes._subplots.AxesSubplot at 0x7faf07688210>"
            ]
          },
          "metadata": {},
          "execution_count": 24
        },
        {
          "output_type": "display_data",
          "data": {
            "text/plain": [
              "<Figure size 432x288 with 1 Axes>"
            ],
            "image/png": "[encoded data removed]"
          },
          "metadata": {
            "needs_background": "light"
          }
        }
      ],
      "source": [
        "import pandas as pd\n",
        "import matplotlib.pyplot as plt\n",
        "url=\"/content/ModeloRegresionTec.csv\"\n",
        "df_raw=pd.read_csv(url)\n",
        "df_raw.shape\n",
        "df_raw.boxplot()"
      ]
    },
    {
      "cell_type": "code",
      "source": [
        "df_raw.describe()"
      ],
      "metadata": {
        "colab": {
          "base_uri": "https://localhost:8080/",
          "height": 300
        },
        "id": "jE37gmjkIN_t",
        "outputId": "8a65e89c-f2b5-4972-941a-0ff9f10e466a"
      },
      "execution_count": 11,
      "outputs": [
        {
          "output_type": "execute_result",
          "data": {
            "text/plain": [
              "          Calorias  Carbohidratos     Lipidos   Proteínas        Sodio  \\\n",
              "count   133.000000     133.000000  133.000000  133.000000   133.000000   \n",
              "mean    336.377729      39.969925   13.609023   17.000000   221.445692   \n",
              "std     234.131594      47.839051   14.582490   18.741867   420.138006   \n",
              "min       1.238000       0.000000    0.000000    0.000000     0.000000   \n",
              "25%     160.000000       7.000000    2.000000    3.000000     0.000000   \n",
              "50%     290.000000      26.000000   10.000000   12.000000    20.000000   \n",
              "75%     436.000000      52.000000   22.000000   24.000000   280.000000   \n",
              "max    1250.000000     258.000000   74.000000   95.000000  2850.000000   \n",
              "\n",
              "           Azucar  \n",
              "count  133.000000  \n",
              "mean     6.593985  \n",
              "std      8.853212  \n",
              "min      0.000000  \n",
              "25%      0.000000  \n",
              "50%      2.000000  \n",
              "75%      9.000000  \n",
              "max     36.000000  "
            ],
            "text/html": [
              "\n",
              "  <div id=\"df-a52703b8-e78e-4cfd-9e90-bd0e782cec0c\">\n",
              "    <div class=\"colab-df-container\">\n",
              "      <div>\n",
              "<style scoped>\n",
              "    .dataframe tbody tr th:only-of-type {\n",
              "        vertical-align: middle;\n",
              "    }\n",
              "\n",
              "    .dataframe tbody tr th {\n",
              "        vertical-align: top;\n",
              "    }\n",
              "\n",
              "    .dataframe thead th {\n",
              "        text-align: right;\n",
              "    }\n",
              "</style>\n",
              "<table border=\"1\" class=\"dataframe\">\n",
              "  <thead>\n",
              "    <tr style=\"text-align: right;\">\n",
              "      <th></th>\n",
              "      <th>Calorias</th>\n",
              "      <th>Carbohidratos</th>\n",
              "      <th>Lipidos</th>\n",
              "      <th>Proteínas</th>\n",
              "      <th>Sodio</th>\n",
              "      <th>Azucar</th>\n",
              "    </tr>\n",
              "  </thead>\n",
              "  <tbody>\n",
              "    <tr>\n",
              "      <th>count</th>\n",
              "      <td>133.000000</td>\n",
              "      <td>133.000000</td>\n",
              "      <td>133.000000</td>\n",
              "      <td>133.000000</td>\n",
              "      <td>133.000000</td>\n",
              "      <td>133.000000</td>\n",
              "    </tr>\n",
              "    <tr>\n",
              "      <th>mean</th>\n",
              "      <td>336.377729</td>\n",
              "      <td>39.969925</td>\n",
              "      <td>13.609023</td>\n",
              "      <td>17.000000</td>\n",
              "      <td>221.445692</td>\n",
              "      <td>6.593985</td>\n",
              "    </tr>\n",
              "    <tr>\n",
              "      <th>std</th>\n",
              "      <td>234.131594</td>\n",
              "      <td>47.839051</td>\n",
              "      <td>14.582490</td>\n",
              "      <td>18.741867</td>\n",
              "      <td>420.138006</td>\n",
              "      <td>8.853212</td>\n",
              "    </tr>\n",
              "    <tr>\n",
              "      <th>min</th>\n",
              "      <td>1.238000</td>\n",
              "      <td>0.000000</td>\n",
              "      <td>0.000000</td>\n",
              "      <td>0.000000</td>\n",
              "      <td>0.000000</td>\n",
              "      <td>0.000000</td>\n",
              "    </tr>\n",
              "    <tr>\n",
              "      <th>25%</th>\n",
              "      <td>160.000000</td>\n",
              "      <td>7.000000</td>\n",
              "      <td>2.000000</td>\n",
              "      <td>3.000000</td>\n",
              "      <td>0.000000</td>\n",
              "      <td>0.000000</td>\n",
              "    </tr>\n",
              "    <tr>\n",
              "      <th>50%</th>\n",
              "      <td>290.000000</td>\n",
              "      <td>26.000000</td>\n",
              "      <td>10.000000</td>\n",
              "      <td>12.000000</td>\n",
              "      <td>20.000000</td>\n",
              "      <td>2.000000</td>\n",
              "    </tr>\n",
              "    <tr>\n",
              "      <th>75%</th>\n",
              "      <td>436.000000</td>\n",
              "      <td>52.000000</td>\n",
              "      <td>22.000000</td>\n",
              "      <td>24.000000</td>\n",
              "      <td>280.000000</td>\n",
              "      <td>9.000000</td>\n",
              "    </tr>\n",
              "    <tr>\n",
              "      <th>max</th>\n",
              "      <td>1250.000000</td>\n",
              "      <td>258.000000</td>\n",
              "      <td>74.000000</td>\n",
              "      <td>95.000000</td>\n",
              "      <td>2850.000000</td>\n",
              "      <td>36.000000</td>\n",
              "    </tr>\n",
              "  </tbody>\n",
              "</table>\n",
              "</div>\n",
              "      <button class=\"colab-df-convert\" onclick=\"convertToInteractive('df-a52703b8-e78e-4cfd-9e90-bd0e782cec0c')\"\n",
              "              title=\"Convert this dataframe to an interactive table.\"\n",
              "              style=\"display:none;\">\n",
              "        \n",
              "  <svg xmlns=\"http://www.w3.org/2000/svg\" height=\"24px\"viewBox=\"0 0 24 24\"\n",
              "       width=\"24px\">\n",
              "    <path d=\"M0 0h24v24H0V0z\" fill=\"none\"/>\n",
              "    <path d=\"M18.56 5.44l.94 2.06.94-2.06 2.06-.94-2.06-.94-.94-2.06-.94 2.06-2.06.94zm-11 1L8.5 8.5l.94-2.06 2.06-.94-2.06-.94L8.5 2.5l-.94 2.06-2.06.94zm10 10l.94 2.06.94-2.06 2.06-.94-2.06-.94-.94-2.06-.94 2.06-2.06.94z\"/><path d=\"M17.41 7.96l-1.37-1.37c-.4-.4-.92-.59-1.43-.59-.52 0-1.04.2-1.43.59L10.3 9.45l-7.72 7.72c-.78.78-.78 2.05 0 2.83L4 21.41c.39.39.9.59 1.41.59.51 0 1.02-.2 1.41-.59l7.78-7.78 2.81-2.81c.8-.78.8-2.07 0-2.86zM5.41 20L4 18.59l7.72-7.72 1.47 1.35L5.41 20z\"/>\n",
              "  </svg>\n",
              "      </button>\n",
              "      \n",
              "  <style>\n",
              "    .colab-df-container {\n",
              "      display:flex;\n",
              "      flex-wrap:wrap;\n",
              "      gap: 12px;\n",
              "    }\n",
              "\n",
              "    .colab-df-convert {\n",
              "      background-color: #E8F0FE;\n",
              "      border: none;\n",
              "      border-radius: 50%;\n",
              "      cursor: pointer;\n",
              "      display: none;\n",
              "      fill: #1967D2;\n",
              "      height: 32px;\n",
              "      padding: 0 0 0 0;\n",
              "      width: 32px;\n",
              "    }\n",
              "\n",
              "    .colab-df-convert:hover {\n",
              "      background-color: #E2EBFA;\n",
              "      box-shadow: 0px 1px 2px rgba(60, 64, 67, 0.3), 0px 1px 3px 1px rgba(60, 64, 67, 0.15);\n",
              "      fill: #174EA6;\n",
              "    }\n",
              "\n",
              "    [theme=dark] .colab-df-convert {\n",
              "      background-color: #3B4455;\n",
              "      fill: #D2E3FC;\n",
              "    }\n",
              "\n",
              "    [theme=dark] .colab-df-convert:hover {\n",
              "      background-color: #434B5C;\n",
              "      box-shadow: 0px 1px 3px 1px rgba(0, 0, 0, 0.15);\n",
              "      filter: drop-shadow(0px 1px 2px rgba(0, 0, 0, 0.3));\n",
              "      fill: #FFFFFF;\n",
              "    }\n",
              "  </style>\n",
              "\n",
              "      <script>\n",
              "        const buttonEl =\n",
              "          document.querySelector('#df-a52703b8-e78e-4cfd-9e90-bd0e782cec0c button.colab-df-convert');\n",
              "        buttonEl.style.display =\n",
              "          google.colab.kernel.accessAllowed ? 'block' : 'none';\n",
              "\n",
              "        async function convertToInteractive(key) {\n",
              "          const element = document.querySelector('#df-a52703b8-e78e-4cfd-9e90-bd0e782cec0c');\n",
              "          const dataTable =\n",
              "            await google.colab.kernel.invokeFunction('convertToInteractive',\n",
              "                                                     [key], {});\n",
              "          if (!dataTable) return;\n",
              "\n",
              "          const docLinkHtml = 'Like what you see? Visit the ' +\n",
              "            '<a target=\"_blank\" href=https://colab.research.google.com/notebooks/data_table.ipynb>data table notebook</a>'\n",
              "            + ' to learn more about interactive tables.';\n",
              "          element.innerHTML = '';\n",
              "          dataTable['output_type'] = 'display_data';\n",
              "          await google.colab.output.renderOutput(dataTable, element);\n",
              "          const docLink = document.createElement('div');\n",
              "          docLink.innerHTML = docLinkHtml;\n",
              "          element.appendChild(docLink);\n",
              "        }\n",
              "      </script>\n",
              "    </div>\n",
              "  </div>\n",
              "  "
            ]
          },
          "metadata": {},
          "execution_count": 11
        }
      ]
    },
    {
      "cell_type": "code",
      "source": [
        "def outliers(df,ft):\n",
        "    Q1 = df[ft].quantile(0.25)\n",
        "    Q3 = df[ft].quantile(0.75)\n",
        "    IQR= Q3-Q1\n",
        "    lower_bound = Q1 -1.5 * IQR\n",
        "    upper_bound = Q3 + 1.5 * IQR\n",
        "    \n",
        "    ls = df.index[ (df[ft] < lower_bound  )  | (df[ft] > upper_bound) ]\n",
        "    \n",
        "    return ls   "
      ],
      "metadata": {
        "id": "qgSYkjSQJREl"
      },
      "execution_count": 12,
      "outputs": []
    },
    {
      "cell_type": "code",
      "source": [
        "index_list = []\n",
        "for feature in [\"Calorias\", \"Carbohidratos\", \"Lipidos\", \"Proteínas\", \"Sodio\", \"Azucar\"]:\n",
        "    index_list.extend(outliers(df_raw, feature))\n",
        "\n",
        "index_list"
      ],
      "metadata": {
        "colab": {
          "base_uri": "https://localhost:8080/"
        },
        "id": "FgYcPSa3Jhwc",
        "outputId": "543af58a-89aa-4752-da1e-0b3171b71f4a"
      },
      "execution_count": 13,
      "outputs": [
        {
          "output_type": "execute_result",
          "data": {
            "text/plain": [
              "[15,\n",
              " 29,\n",
              " 36,\n",
              " 37,\n",
              " 83,\n",
              " 130,\n",
              " 29,\n",
              " 33,\n",
              " 50,\n",
              " 57,\n",
              " 60,\n",
              " 64,\n",
              " 90,\n",
              " 100,\n",
              " 112,\n",
              " 116,\n",
              " 1,\n",
              " 36,\n",
              " 17,\n",
              " 23,\n",
              " 35,\n",
              " 36,\n",
              " 77,\n",
              " 83,\n",
              " 86,\n",
              " 111,\n",
              " 15,\n",
              " 17,\n",
              " 23,\n",
              " 37,\n",
              " 39,\n",
              " 40,\n",
              " 45,\n",
              " 52,\n",
              " 68,\n",
              " 110,\n",
              " 118,\n",
              " 27,\n",
              " 35,\n",
              " 38,\n",
              " 42,\n",
              " 66,\n",
              " 107,\n",
              " 108,\n",
              " 114,\n",
              " 123,\n",
              " 129,\n",
              " 131]"
            ]
          },
          "metadata": {},
          "execution_count": 13
        }
      ]
    },
    {
      "cell_type": "code",
      "source": [
        "def remove(df, ls):\n",
        "    ls = sorted(set(ls))\n",
        "    df = df.drop(ls)\n",
        "    return df"
      ],
      "metadata": {
        "id": "s2JC0V08Lst1"
      },
      "execution_count": 14,
      "outputs": []
    },
    {
      "cell_type": "code",
      "source": [
        "df_cleaned = remove(df_raw, index_list)"
      ],
      "metadata": {
        "id": "sdsGH0uwL93n"
      },
      "execution_count": 15,
      "outputs": []
    },
    {
      "cell_type": "code",
      "source": [
        "df_cleaned.shape"
      ],
      "metadata": {
        "colab": {
          "base_uri": "https://localhost:8080/"
        },
        "id": "-9k92YK-MBdE",
        "outputId": "0625ced8-52f8-480e-ea3b-e96f26139f00"
      },
      "execution_count": 19,
      "outputs": [
        {
          "output_type": "execute_result",
          "data": {
            "text/plain": [
              "(94, 6)"
            ]
          },
          "metadata": {},
          "execution_count": 19
        }
      ]
    },
    {
      "cell_type": "code",
      "source": [
        "df_raw.shape"
      ],
      "metadata": {
        "colab": {
          "base_uri": "https://localhost:8080/"
        },
        "id": "acL97-8WN8fF",
        "outputId": "5c8822ca-0f83-4de2-a548-4da9e5f7082c"
      },
      "execution_count": 20,
      "outputs": [
        {
          "output_type": "execute_result",
          "data": {
            "text/plain": [
              "(133, 6)"
            ]
          },
          "metadata": {},
          "execution_count": 20
        }
      ]
    },
    {
      "cell_type": "code",
      "source": [
        "df_cleaned.boxplot()"
      ],
      "metadata": {
        "colab": {
          "base_uri": "https://localhost:8080/",
          "height": 285
        },
        "id": "GADTCQHxOCFu",
        "outputId": "9e1cc5b7-16c3-4e17-bb3d-43425549d010"
      },
      "execution_count": 21,
      "outputs": [
        {
          "output_type": "execute_result",
          "data": {
            "text/plain": [
              "<matplotlib.axes._subplots.AxesSubplot at 0x7faf07916410>"
            ]
          },
          "metadata": {},
          "execution_count": 21
        },
        {
          "output_type": "display_data",
          "data": {
            "text/plain": [
              "<Figure size 432x288 with 1 Axes>"
            ],
            "image/png": "[encoded data removed]"
          },
          "metadata": {
            "needs_background": "light"
          }
        }
      ]
    }
  ]
}