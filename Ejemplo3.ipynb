{
  "nbformat": 4,
  "nbformat_minor": 0,
  "metadata": {
    "colab": {
      "provenance": [],
      "authorship_tag": "ABX9TyOzQgNMZQBwV11U2MHrNGZH",
      "include_colab_link": true
    },
    "kernelspec": {
      "name": "python3",
      "display_name": "Python 3"
    },
    "language_info": {
      "name": "python"
    }
  },
  "cells": [
    {
      "cell_type": "markdown",
      "metadata": {
        "id": "view-in-github",
        "colab_type": "text"
      },
      "source": [
        "<a href=\"https://colab.research.google.com/github/crypto10pi/Ejemplos/blob/main/Ejemplo3.ipynb\" target=\"_parent\"><img src=\"https://colab.research.google.com/assets/colab-badge.svg\" alt=\"Open In Colab\"/></a>"
      ]
    },
    {
      "cell_type": "code",
      "execution_count": null,
      "metadata": {
        "id": "nYZih718Jt3F"
      },
      "outputs": [],
      "source": [
        "import pandas as pd\n",
        "url2=\"https://raw.githubusercontent.com/crypto10pi/Datos/main/HousePrice.csv\"\n",
        "url=\"https://github.com/crypto10pi/Datos/blob/main/gradedata.csv?raw=true\"\n",
        "df=pd.read_csv(url2)\n",
        "df.info()"
      ]
    },
    {
      "cell_type": "code",
      "source": [
        "df.info()"
      ],
      "metadata": {
        "colab": {
          "base_uri": "https://localhost:8080/"
        },
        "id": "q12j2I4nhivT",
        "outputId": "b19d7ebb-d970-4be8-e6d2-dee373836706"
      },
      "execution_count": 6,
      "outputs": [
        {
          "output_type": "stream",
          "name": "stdout",
          "text": [
            "<class 'pandas.core.frame.DataFrame'>\n",
            "RangeIndex: 2000 entries, 0 to 1999\n",
            "Data columns (total 8 columns):\n",
            " #   Column    Non-Null Count  Dtype  \n",
            "---  ------    --------------  -----  \n",
            " 0   fname     2000 non-null   object \n",
            " 1   lname     2000 non-null   object \n",
            " 2   gender    2000 non-null   object \n",
            " 3   age       2000 non-null   int64  \n",
            " 4   exercise  2000 non-null   int64  \n",
            " 5   hours     2000 non-null   int64  \n",
            " 6   grade     2000 non-null   float64\n",
            " 7   address   2000 non-null   object \n",
            "dtypes: float64(1), int64(3), object(4)\n",
            "memory usage: 125.1+ KB\n"
          ]
        }
      ]
    },
    {
      "cell_type": "code",
      "source": [],
      "metadata": {
        "id": "tU6v2H1ijicl"
      },
      "execution_count": null,
      "outputs": []
    }
  ]
}