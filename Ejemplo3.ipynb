{
  "nbformat": 4,
  "nbformat_minor": 0,
  "metadata": {
    "colab": {
      "provenance": [],
      "authorship_tag": "ABX9TyNx1O8L/d9w8Acf7XFGloyD",
      "include_colab_link": true
    },
    "kernelspec": {
      "name": "python3",
      "display_name": "Python 3"
    },
    "language_info": {
      "name": "python"
    }
  },
  "cells": [
    {
      "cell_type": "markdown",
      "metadata": {
        "id": "view-in-github",
        "colab_type": "text"
      },
      "source": [
        "<a href=\"https://colab.research.google.com/github/crypto10pi/Ejemplos/blob/main/Ejemplo3.ipynb\" target=\"_parent\"><img src=\"https://colab.research.google.com/assets/colab-badge.svg\" alt=\"Open In Colab\"/></a>"
      ]
    },
    {
      "cell_type": "code",
      "execution_count": null,
      "metadata": {
        "id": "nYZih718Jt3F"
      },
      "outputs": [],
      "source": [
        "import pandas as pd\n",
        "url2=\"https://raw.githubusercontent.com/crypto10pi/Datos/main/HousePrice.csv\"\n",
        "url=\"https://github.com/crypto10pi/Datos/blob/main/gradedata.csv?raw=true\"\n",
        "df=pd.read_csv(url2)\n",
        "df.info()"
      ]
    },
    {
      "cell_type": "code",
      "source": [],
      "metadata": {
        "id": "q12j2I4nhivT"
      },
      "execution_count": null,
      "outputs": []
    }
  ]
}