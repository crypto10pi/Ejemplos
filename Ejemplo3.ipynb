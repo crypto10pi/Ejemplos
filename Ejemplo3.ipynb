{
  "nbformat": 4,
  "nbformat_minor": 0,
  "metadata": {
    "colab": {
      "provenance": [],
      "authorship_tag": "ABX9TyO8luywSF9psfBWj9i99u4/",
      "include_colab_link": true
    },
    "kernelspec": {
      "name": "python3",
      "display_name": "Python 3"
    },
    "language_info": {
      "name": "python"
    }
  },
  "cells": [
    {
      "cell_type": "markdown",
      "metadata": {
        "id": "view-in-github",
        "colab_type": "text"
      },
      "source": [
        "<a href=\"https://colab.research.google.com/github/crypto10pi/Ejemplos/blob/main/Ejemplo3.ipynb\" target=\"_parent\"><img src=\"https://colab.research.google.com/assets/colab-badge.svg\" alt=\"Open In Colab\"/></a>"
      ]
    },
    {
      "cell_type": "code",
      "execution_count": 3,
      "metadata": {
        "id": "nYZih718Jt3F",
        "colab": {
          "base_uri": "https://localhost:8080/"
        },
        "outputId": "82419f17-156d-4f48-9198-83eac3cb0cb3"
      },
      "outputs": [
        {
          "output_type": "stream",
          "name": "stdout",
          "text": [
            "<class 'pandas.core.frame.DataFrame'>\n",
            "RangeIndex: 2000 entries, 0 to 1999\n",
            "Data columns (total 8 columns):\n",
            " #   Column    Non-Null Count  Dtype  \n",
            "---  ------    --------------  -----  \n",
            " 0   fname     2000 non-null   object \n",
            " 1   lname     2000 non-null   object \n",
            " 2   gender    2000 non-null   object \n",
            " 3   age       2000 non-null   int64  \n",
            " 4   exercise  2000 non-null   int64  \n",
            " 5   hours     2000 non-null   int64  \n",
            " 6   grade     2000 non-null   float64\n",
            " 7   address   2000 non-null   object \n",
            "dtypes: float64(1), int64(3), object(4)\n",
            "memory usage: 125.1+ KB\n"
          ]
        }
      ],
      "source": [
        "import pandas as pd\n",
        "url=\"https://github.com/crypto10pi/Datos/blob/main/gradedata.csv?raw=true\"\n",
        "df=pd.read_csv(url)\n",
        "df.info()"
      ]
    }
  ]
}